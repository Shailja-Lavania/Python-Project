{
 "cells": [
  {
   "cell_type": "markdown",
   "metadata": {},
   "source": [
    "# Project  - Mad Libs Generator"
   ]
  },
  {
   "cell_type": "code",
   "execution_count": null,
   "metadata": {},
   "outputs": [
    {
     "name": "stdout",
     "output_type": "stream",
     "text": [
      "Choose a noun: Aditya\n",
      "Choose a plural noun: Books\n",
      "Choose a noun: Computer\n",
      "Name a place: Library\n",
      "Choose an adjective (Describing word)loop = loop + 1: Huge\n",
      "Choose a noun: Champion\n",
      "------------------------------------------\n",
      "My Brother name is Aditya  He has five  Books\n",
      "One day he read an article about Computer ,\n",
      "He explained me that How I can learn code with  Books in Library\n",
      "Where the information is  Huge .\n",
      "\n",
      "After months of coding practice & mastering it, Everyone call me Champion ,\n",
      "Well it is.\n",
      "------------------------------------------\n"
     ]
    }
   ],
   "source": [
    "loop = 1\n",
    "while (loop < 10):\n",
    "    \n",
    "    #Following can be the questions or can be framed by the user as per convenience:-\n",
    "    \n",
    "    noun = input(\"Choose a noun: \")\n",
    "    p_noun = input(\"Choose a plural noun: \")\n",
    "    noun2 = input(\"Choose a noun: \")\n",
    "    place = input(\"Name a place: \")\n",
    "    adjective = input(\"Choose an adjective (Describing word)loop = loop + 1: \")\n",
    "    noun3 = input(\"Choose a noun: \")\n",
    "    \n",
    "    # Story based on user's input:-\n",
    "    \n",
    "    print (\"------------------------------------------\")\n",
    "    print (\"My Brother name is\",noun,\" He bought five \", p_noun)\n",
    "    print (\"One day he read an article about\", noun2,\",\")\n",
    "    print (\"He explained me that How I can learn code with \",p_noun,\"in\",place)\n",
    "    print (\"Where the information is \",adjective,\".\")\n",
    "    print ()\n",
    "    print (\"After months of coding practice & mastering it, Everyone calls me\",noun3,\",\")\n",
    "    print (\"Well it is.\")\n",
    "    print (\"------------------------------------------\")\n",
    "    \"loop = 1\"\n",
    "                      \n",
    "    loop = loop + 1"
   ]
  },
  {
   "cell_type": "code",
   "execution_count": null,
   "metadata": {},
   "outputs": [],
   "source": []
  }
 ],
 "metadata": {
  "kernelspec": {
   "display_name": "Python 3",
   "language": "python",
   "name": "python3"
  },
  "language_info": {
   "codemirror_mode": {
    "name": "ipython",
    "version": 3
   },
   "file_extension": ".py",
   "mimetype": "text/x-python",
   "name": "python",
   "nbconvert_exporter": "python",
   "pygments_lexer": "ipython3",
   "version": "3.7.4"
  }
 },
 "nbformat": 4,
 "nbformat_minor": 2
}
