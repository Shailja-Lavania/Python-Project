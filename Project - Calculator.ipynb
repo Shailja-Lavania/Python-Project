{
 "cells": [
  {
   "cell_type": "markdown",
   "metadata": {},
   "source": [
    "# Project - Simple Calculator"
   ]
  },
  {
   "cell_type": "code",
   "execution_count": 1,
   "metadata": {},
   "outputs": [
    {
     "name": "stdout",
     "output_type": "stream",
     "text": [
      "Select operation.\n",
      "i. Add\n",
      "ii.Subtract\n",
      "iii.Multiply\n",
      "iv.Divide\n",
      "Enter choice(i or ii or iii or iv): 10\n",
      "Invalid Input\n",
      "Enter choice(i or ii or iii or iv): 10\n",
      "Invalid Input\n",
      "Enter choice(i or ii or iii or iv): i\n",
      "Enter first number: 10\n",
      "Enter second number: 10\n",
      "10.0 + 10.0 = 20.0\n"
     ]
    }
   ],
   "source": [
    "# Simple programming for simple Calculator\n",
    "\n",
    "# Doing addition & taking 2 numbers:-\n",
    "def add(a, b):\n",
    "    return a + b\n",
    "\n",
    "# Using function for subtracting two numbers:-\n",
    "def subtract(a, b):\n",
    "    return a - b\n",
    "\n",
    "# Using function for multiplying two numbers:-\n",
    "def multiply(a, b):\n",
    "    return a * b\n",
    "\n",
    "# Using function for dividing two numbers:-\n",
    "def divide(a, b):\n",
    "    return a / b\n",
    "\n",
    "\n",
    "print(\"Select operation.\")\n",
    "print(\"i. Add\")\n",
    "print(\"ii.Subtract\")\n",
    "print(\"iii.Multiply\")\n",
    "print(\"iv.Divide\")\n",
    "\n",
    "while True:\n",
    "    # Take input from the user\n",
    "    choice = input(\"Enter choice(i or ii or iii or iv): \")\n",
    "\n",
    "    # Check if choice is one of the four options\n",
    "    if choice in ('i', 'ii', 'iii', 'iv'):\n",
    "        num1 = float(input(\"Enter first number: \"))\n",
    "        num2 = float(input(\"Enter second number: \"))\n",
    "\n",
    "        if choice == 'i':\n",
    "            print(num1, \"+\", num2, \"=\", add(num1, num2))\n",
    "\n",
    "        elif choice == 'ii':\n",
    "            print(num1, \"-\", num2, \"=\", subtract(num1, num2))\n",
    "\n",
    "        elif choice == 'iii':\n",
    "            print(num1, \"*\", num2, \"=\", multiply(num1, num2))\n",
    "\n",
    "        elif choice == 'iv':\n",
    "            print(num1, \"/\", num2, \"=\", divide(num1, num2))\n",
    "        break\n",
    "    else:\n",
    "        print(\"Invalid Input\")"
   ]
  },
  {
   "cell_type": "code",
   "execution_count": null,
   "metadata": {},
   "outputs": [],
   "source": []
  }
 ],
 "metadata": {
  "kernelspec": {
   "display_name": "Python 3",
   "language": "python",
   "name": "python3"
  },
  "language_info": {
   "codemirror_mode": {
    "name": "ipython",
    "version": 3
   },
   "file_extension": ".py",
   "mimetype": "text/x-python",
   "name": "python",
   "nbconvert_exporter": "python",
   "pygments_lexer": "ipython3",
   "version": "3.7.4"
  }
 },
 "nbformat": 4,
 "nbformat_minor": 2
}
